{
 "cells": [
  {
   "cell_type": "code",
   "execution_count": null,
   "metadata": {},
   "outputs": [],
   "source": [
    "from torch.utils.data import Dataset\n",
    "import os\n",
    "from PIL import Image\n",
    "from torchvision.transforms import ToTensor\n",
    "import matplotlib.pyplot as plt\n",
    "class Cropped5BP(Dataset):\n",
    "\tdef __init__(self, root):\n",
    "\t\tself.image_dir = os.path.join(root, 'Image__8bit_NirRGB')\n",
    "\t\tself.index_dir = os.path.join(root, 'Annotation__index')\n",
    "\t\tself.color_dir = os.path.join(root, 'Annotation__color')\n",
    "\tdef __len__(self):\n",
    "\t\tfiles = [item for item in items if os.path.isfile(os.path.join(self.image_dir, item))]\n",
    "\t\treturn len(files)\n",
    "\tdef __getitem__(self, idx):\n",
    "\t\timage = ToTensor()(Image.open(os.path.join(self.image_dir, str(idx)+\".png\")))\n",
    "\t\tindex = ToTensor()(Image.open(os.path.join(self.index_dir, str(idx)+\".png\")))\n",
    "\t\tcolor = ToTensor()(Image.open(os.path.join(self.color_dir, str(idx)+\".png\")))\n",
    "\t\treturn image, index, color\n",
    "dataset = Cropped5BP(\"C:\\\\Users\\\\web\\\\Documents\\\\gaofen\\\\Test\\\\Patches_224x224\")\n",
    "image, index, color = dataset[]\n",
    "plt.imshow(image.permute(1,2,0))\n",
    "plt.show()\n",
    "plt.imshow(color.permute(1,2,0))\n",
    "plt.show()"
   ]
  }
 ],
 "metadata": {
  "kernelspec": {
   "display_name": "Python 3",
   "language": "python",
   "name": "python3"
  },
  "language_info": {
   "codemirror_mode": {
    "name": "ipython",
    "version": 3
   },
   "file_extension": ".py",
   "mimetype": "text/x-python",
   "name": "python",
   "nbconvert_exporter": "python",
   "pygments_lexer": "ipython3",
   "version": "3.10.11"
  }
 },
 "nbformat": 4,
 "nbformat_minor": 2
}
