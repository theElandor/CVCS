{
 "cells": [
  {
   "cell_type": "code",
   "execution_count": 1,
   "metadata": {},
   "outputs": [],
   "source": [
    "import matplotlib.pyplot as plt\n",
    "def plot(tensor):\n",
    "    plt.imshow(tensor.swapaxes(0,2).swapaxes(0,1))\n",
    "    plt.show()"
   ]
  },
  {
   "cell_type": "code",
   "execution_count": 2,
   "metadata": {},
   "outputs": [],
   "source": [
    "from PIL import Image\n",
    "import torch\n",
    "from torchvision.transforms import ToTensor\n",
    "import torchvision.utils as utils\n",
    "import os\n",
    "patch_size = 300\n",
    "\n",
    "\n",
    "imdir = \"D:\\\\Datasets\\\\Postdam_6000x6000\\\\Labels\"\n",
    "items = os.listdir(imdir)\n",
    "files = [item for item in items if os.path.isfile(os.path.join(imdir, item))]\n",
    "#output = torch.ones((num_patches, c, patch_size, patch_size))\n",
    "for image_index, file in enumerate(files):\n",
    "    image = ToTensor()(Image.open(os.path.join(imdir, file)))\n",
    "    c,H,W = image.shape\n",
    "    assert H % patch_size == 0, \"Height not divisibile by patch size.\"\n",
    "    oH = H // patch_size\n",
    "    oW = W // patch_size\n",
    "    num_patches = oH*oW # 400\n",
    "    for i in range(oH):\n",
    "        for j in range(oW):\n",
    "            #output[(i*oW)+j] = image[:, i*300:(i+1)*patch_size, j*300:(j+1)*patch_size]\n",
    "            utils.save_image(image[:, i*300:(i+1)*patch_size, j*300:(j+1)*patch_size], \"C:\\\\Users\\\\eros\\\\CVCS\\\\dataset\\\\Postdam_300x300_full\\\\Labels\\\\Label_{}.png\".format((i*oW)+j+image_index*num_patches))\n",
    "# num_patches, C, 300,300"
   ]
  },
  {
   "cell_type": "code",
   "execution_count": 17,
   "metadata": {},
   "outputs": [],
   "source": [
    "from torchvision.transforms.functional import center_crop as cc\n",
    "from torchvision.transforms import ToTensor\n",
    "import os\n",
    "from PIL import Image\n",
    "import matplotlib.pyplot as plt\n",
    "import torchvision.utils as utils\n",
    "\n",
    "target = \"Label\"\n",
    "imdir = \"C:\\\\Users\\\\eros\\\\CVCS\\\\dataset\\\\Postdam_300x300_full\\\\{}s\".format(target)\n",
    "outdir = \"C:\\\\Users\\\\eros\\\\CVCS\\\\dataset\\\\Postdam_256x256_full\\\\{}s\".format(target)\n",
    "items = os.listdir(imdir)\n",
    "files = [item for item in items if os.path.isfile(os.path.join(imdir, item))]\n",
    "for i, file in enumerate(files):\n",
    "    image = ToTensor()(Image.open(os.path.join(imdir, file)))\n",
    "    cropped = cc(image, (256,256))\n",
    "    utils.save_image(cropped, os.path.join(outdir, \"{}_{}.png\".format(target, i)))\n",
    "    \n",
    "    \n",
    "    "
   ]
  }
 ],
 "metadata": {
  "kernelspec": {
   "display_name": "Python 3",
   "language": "python",
   "name": "python3"
  },
  "language_info": {
   "codemirror_mode": {
    "name": "ipython",
    "version": 3
   },
   "file_extension": ".py",
   "mimetype": "text/x-python",
   "name": "python",
   "nbconvert_exporter": "python",
   "pygments_lexer": "ipython3",
   "version": "3.10.11"
  }
 },
 "nbformat": 4,
 "nbformat_minor": 2
}
