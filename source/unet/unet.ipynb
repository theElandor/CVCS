{
 "cells": [
  {
   "cell_type": "code",
   "execution_count": 71,
   "metadata": {},
   "outputs": [],
   "source": [
    "import torch\n",
    "import torch.nn as nn\n",
    "import numpy as np\n",
    "import matplotlib.pyplot as plt\n"
   ]
  },
  {
   "cell_type": "code",
   "execution_count": 72,
   "metadata": {},
   "outputs": [],
   "source": [
    "def conv3x3(in_channels: int, out_channels: int):\n",
    "    return nn.Conv2d(in_channels=in_channels, out_channels=out_channels,kernel_size=3, padding=0)\n",
    "\n",
    "\n",
    "def max_pool_2d():\n",
    "    return nn.MaxPool2d(kernel_size=2, stride=2)\n",
    "\n",
    "class UnetEncodeLayer(nn.Module):\n",
    "    # just a standard convolution layer.\n",
    "    def __init__(self, in_channels: int, out_channels: int, activated=True,max_pool=False):\n",
    "        super(UnetEncodeLayer, self).__init__()\n",
    "        layers = [\n",
    "            conv3x3(in_channels, out_channels),\n",
    "            # nn.BatchNorm2d(out_channels),\n",
    "        ]\n",
    "        if activated:\n",
    "            layers += [nn.ReLU()]\n",
    "\n",
    "        if max_pool:\n",
    "            layers += [max_pool_2d()]\n",
    "\n",
    "        self.layer = nn.Sequential(*layers)\n",
    "\n",
    "    def forward(self, x):\n",
    "        return self.layer(x)\n",
    "    "
   ]
  },
  {
   "cell_type": "code",
   "execution_count": 26,
   "metadata": {},
   "outputs": [],
   "source": []
  },
  {
   "cell_type": "code",
   "execution_count": 84,
   "metadata": {},
   "outputs": [],
   "source": [
    "class UNET(nn.Module):\n",
    "\tdef __init__(self):\n",
    "\t\tsuper(UNET, self).__init__()\n",
    "    \t# encoding part of the Unet vanilla architecture\n",
    "\t\tself.encode = nn.Sequential(\n",
    "\t\t\tUnetEncodeLayer(3, 64),\n",
    "\t\t\tUnetEncodeLayer(64, 64, max_pool = True),\n",
    "\n",
    "\t\t\tUnetEncodeLayer(64, 128),\n",
    "\t\t\tUnetEncodeLayer(128, 128, max_pool = True),\n",
    "\n",
    "\t\t\tUnetEncodeLayer(128, 256),\n",
    "\t\t\tUnetEncodeLayer(256, 256, max_pool = True),\n",
    "\n",
    "\t\t\tUnetEncodeLayer(256, 512),\n",
    "\t\t\tUnetEncodeLayer(512, 512, max_pool = True),\n",
    "\n",
    "\t\t\tUnetEncodeLayer(512, 1024),\n",
    "\t\t\tUnetEncodeLayer(1024, 1024),\n",
    "\t\t)\n",
    "\t\tself.decode = nn.Sequential(\n",
    "\t\t\tnn.Upsample(scale_factor=(2,2)),\n",
    "\t\t\tnn.Conv2d(1024,512,2,padding=0)\n",
    "\t\t)\n",
    "\tdef forward(self, x: torch.Tensor):\n",
    "\t\tx = self.encode(x)\n",
    "\t\tx = self.decode(x)\n",
    "\t\treturn x\n"
   ]
  },
  {
   "cell_type": "code",
   "execution_count": 85,
   "metadata": {},
   "outputs": [
    {
     "name": "stdout",
     "output_type": "stream",
     "text": [
      "Number of parameters : 20940864\n",
      "--------------------------------------------------\n",
      "output shape for unet encoding torch.Size([1, 512, 55, 55])\n"
     ]
    }
   ],
   "source": [
    "net = UNET()  # instantiate your net\n",
    "num_params = sum([np.prod(p.shape) for p in net.parameters()])\n",
    "print(f\"Number of parameters : {num_params}\")\n",
    "print('-' * 50)\n",
    "\n",
    "X = torch.rand((1,3, 572, 572))\n",
    "print('output shape for unet encoding', net(X).shape)\n"
   ]
  }
 ],
 "metadata": {
  "kernelspec": {
   "display_name": "Python 3",
   "language": "python",
   "name": "python3"
  },
  "language_info": {
   "codemirror_mode": {
    "name": "ipython",
    "version": 3
   },
   "file_extension": ".py",
   "mimetype": "text/x-python",
   "name": "python",
   "nbconvert_exporter": "python",
   "pygments_lexer": "ipython3",
   "version": "3.9.13"
  }
 },
 "nbformat": 4,
 "nbformat_minor": 2
}
