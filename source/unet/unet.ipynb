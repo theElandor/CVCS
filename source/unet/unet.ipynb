{
 "cells": [
  {
   "cell_type": "code",
   "execution_count": 5,
   "metadata": {},
   "outputs": [],
   "source": [
    "import torch\n",
    "import torch.nn as nn\n"
   ]
  },
  {
   "cell_type": "code",
   "execution_count": 9,
   "metadata": {},
   "outputs": [],
   "source": [
    "def conv3x3(in_channels: int, out_channels: int):\n",
    "    return nn.Conv2d(in_channels=in_channels, out_channels=out_channels,kernel_size=3, padding=1)\n",
    "\n",
    "\n",
    "def max_pool_2d():\n",
    "    return nn.MaxPool2d(kernel_size=2, stride=2)\n",
    "\n",
    "class UNETlayer(nn.Module):\n",
    "    # just a standard convolution layer.\n",
    "    def __init__(self, in_channels: int, out_channels: int, activated=True,max_pool=False):\n",
    "        super(UNETlayer, self).__init__()\n",
    "        layers = [\n",
    "            conv3x3(in_channels, out_channels),\n",
    "            # nn.BatchNorm2d(out_channels),\n",
    "        ]\n",
    "        if activated:\n",
    "            layers += [nn.ReLU()]\n",
    "\n",
    "        if max_pool:\n",
    "            layers += [max_pool_2d()]\n",
    "\n",
    "        self.layer = nn.Sequential(*layers)\n",
    "\n",
    "    def forward(self, x):\n",
    "        return self.layer(x)        "
   ]
  },
  {
   "cell_type": "code",
   "execution_count": 10,
   "metadata": {},
   "outputs": [],
   "source": [
    "class UNET(nn.Module):\n",
    "    def __init__(self):\n",
    "      super(UNET, self).__init__()\n",
    "      # encoding part of the Unet vanilla architecture\n",
    "      self.encode = nn.Sequential(\n",
    "        UNETlayer(3, 64),\n",
    "        UNETlayer(64, 64, max_pool = True),\n",
    "\n",
    "        UNETlayer(64, 128),\n",
    "        UNETlayer(128, 128, max_pool = True),\n",
    "\n",
    "        UNETlayer(128, 256),\n",
    "        UNETlayer(256, 256, max_pool = True),\n",
    "\n",
    "        UNETlayer(256, 512),\n",
    "        UNETlayer(512, 512, max_pool = True),\n",
    "\n",
    "        UNETlayer(512, 1024),\n",
    "        UNETlayer(1024, 1024),\n",
    "    \t)\n",
    "    def forward(self, x: torch.Tensor):\n",
    "        x = self.encode(x)\n",
    "        return x\n"
   ]
  },
  {
   "cell_type": "code",
   "execution_count": null,
   "metadata": {},
   "outputs": [],
   "source": [
    "import numpy as np\n",
    "import matplotlib.pyplot as plt\n",
    "\n",
    "net = UNET()  # instantiate your net\n",
    "num_params = sum([np.prod(p.shape) for p in net.parameters()])\n",
    "print(f\"Number of parameters : {num_params}\")\n",
    "print('-' * 50)\n",
    "\n",
    "X = torch.rand((3, 300, 300))\n",
    "print('output shape for unet encoding', net(X).shape)\n"
   ]
  }
 ],
 "metadata": {
  "kernelspec": {
   "display_name": "Python 3",
   "language": "python",
   "name": "python3"
  },
  "language_info": {
   "codemirror_mode": {
    "name": "ipython",
    "version": 3
   },
   "file_extension": ".py",
   "mimetype": "text/x-python",
   "name": "python",
   "nbconvert_exporter": "python",
   "pygments_lexer": "ipython3",
   "version": "3.9.13"
  }
 },
 "nbformat": 4,
 "nbformat_minor": 2
}
