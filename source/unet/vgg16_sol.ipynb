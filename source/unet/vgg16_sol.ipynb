{
  "cells": [
    {
      "cell_type": "markdown",
      "metadata": {
        "id": "a9knEDxY-0vn"
      },
      "source": [
        "# Implement VGG-Net\n",
        "\n",
        "1. Assert you have the following libraries installed:\n",
        "\n",
        "> `pip install torch torchvision numpy tqdm ipywidgets matplotlib`\n",
        "\n",
        "2. All Conv2D are **3x3** with padding **1**, and are followed by a BatchNorm2d (optional) and a **ReLU** activation\n",
        "\n",
        "3. All MaxPooling are **2x2** with stride **2**\n",
        "\n",
        "**Block 1**\n",
        "> + Conv2D 3->64 \n",
        "> + Conv2D 64->64 \n",
        "> + MaxPool\n",
        "\n",
        "**Block 2**\n",
        "> + Conv2D 64->128\n",
        "> + Conv2D 128->128\n",
        "> + MaxPool\n",
        "\n",
        "**Block 3**\n",
        "> + Conv2D 128->256\n",
        "> + Conv2D 256->256\n",
        "> + Conv2D 256->256\n",
        "> + MaxPool\n",
        "\n",
        "**Block 4**\n",
        "> + Conv2D 256->512\n",
        "> + Conv2D 512->512\n",
        "> + Conv2D 512->512\n",
        "> + MaxPool\n",
        "\n",
        "**Block 5**\n",
        "> + Conv2D 512->512\n",
        "> + Conv2D 512->512\n",
        "> + Conv2D 512->512\n",
        "> + MaxPool\n",
        "\n",
        "**Classifier**\n",
        "> + Linear INPUT_SIZE -> 4096 + ReLU\n",
        "> + Linear 4096 -> 1000 + ReLU\n",
        "> + Linear 1000 -> OUTPUT SIZE"
      ]
    },
    {
      "cell_type": "code",
      "execution_count": null,
      "metadata": {
        "id": "By6XoRQyL_bN"
      },
      "outputs": [],
      "source": [
        "import torch\n",
        "import torch.nn as nn\n",
        "\n",
        "\n",
        "def conv3x3(in_channels: int, out_channels: int):\n",
        "    return nn.Conv2d(in_channels=in_channels, out_channels=out_channels,kernel_size=3, padding=1)\n",
        "\n",
        "\n",
        "def max_pool_2d():\n",
        "    return nn.MaxPool2d(kernel_size=2, stride=2)\n",
        "\n",
        "\n",
        "class VGGlayer(nn.Module):\n",
        "\n",
        "    def __init__(self, in_channels: int, out_channels: int, activated=True,max_pool=False):\n",
        "        super(VGGlayer, self).__init__()\n",
        "\n",
        "        layers = [\n",
        "            conv3x3(in_channels, out_channels),\n",
        "            # nn.BatchNorm2d(out_channels),\n",
        "        ]\n",
        "\n",
        "        if activated:\n",
        "            layers += [nn.ReLU()]\n",
        "\n",
        "        if max_pool:\n",
        "            layers += [max_pool_2d()]\n",
        "\n",
        "        self.layer = nn.Sequential(*layers)\n",
        "\n",
        "    def forward(self, x):\n",
        "        return self.layer(x)\n",
        "\n",
        "\n",
        "class VGG16(nn.Module):\n",
        "\n",
        "    def __init__(self, in_channels: int = 3, num_classes: int = 1000):\n",
        "        super(VGG16, self).__init__()\n",
        "\n",
        "        self.conv_features = nn.Sequential(\n",
        "            VGGlayer(in_channels, 64),\n",
        "            VGGlayer(64, 64, max_pool=True),\n",
        "            VGGlayer(64, 128),\n",
        "            VGGlayer(128, 128, max_pool=True),\n",
        "            VGGlayer(128, 256),\n",
        "            VGGlayer(256, 256),\n",
        "            VGGlayer(256, 256, max_pool=True),\n",
        "            VGGlayer(256, 512),\n",
        "            VGGlayer(512, 512),\n",
        "            VGGlayer(512, 512, max_pool=True),\n",
        "            VGGlayer(512, 512),\n",
        "            VGGlayer(512, 512),\n",
        "            VGGlayer(512, 512, max_pool=True),\n",
        "\n",
        "        )\n",
        "\n",
        "        self.avgpool = nn.AdaptiveAvgPool2d((7, 7))\n",
        "\n",
        "        self.classifier = nn.Sequential(\n",
        "            nn.Linear(512 * 7 * 7, 4096),\n",
        "            nn.ReLU(),\n",
        "            nn.Dropout(),\n",
        "            nn.Linear(4096, 4096),\n",
        "            nn.ReLU(),\n",
        "            nn.Dropout(),\n",
        "            nn.Linear(4096, num_classes),\n",
        "        )\n",
        "\n",
        "    def forward(self, x):\n",
        "        x = self.conv_features(x)\n",
        "        x = self.avgpool(x)\n",
        "        x = torch.flatten(x, 1)\n",
        "        x = self.classifier(x)\n",
        "        return x\n"
      ]
    },
    {
      "cell_type": "markdown",
      "metadata": {
        "id": "fGj9ISKL-5hZ"
      },
      "source": [
        "# Forward Pass Debug\n",
        "If it can process random data, then you're mostly alright :D"
      ]
    },
    {
      "cell_type": "code",
      "execution_count": null,
      "metadata": {
        "id": "aIFRGVCaMeY7"
      },
      "outputs": [],
      "source": [
        "import numpy as np\n",
        "\n",
        "net = VGG16()\n",
        "num_params = sum([np.prod(p.shape) for p in net.parameters()])\n",
        "print(f\"Number of parameters : {num_params}\")\n",
        "print('-' * 50)\n",
        "\n",
        "# test on Imagenet-like shaped data\n",
        "\n",
        "X = torch.rand((8, 3, 224, 224))\n",
        "print('output shape for imgnet', net(X).shape)\n"
      ]
    },
    {
      "cell_type": "code",
      "execution_count": null,
      "metadata": {
        "id": "s2OXLXc2TEWm"
      },
      "outputs": [],
      "source": [
        "# test on CIFAR-like shaped data\n",
        "\n",
        "X = torch.rand((8, 3, 32, 32))\n",
        "print('output shape for cifar', net(X).shape)\n",
        "net(X)\n"
      ]
    },
    {
      "cell_type": "markdown",
      "metadata": {
        "id": "tLlCXtaH_Lrc"
      },
      "source": [
        "# OPTIONAL: Let's train on CIFAR-10"
      ]
    },
    {
      "cell_type": "code",
      "execution_count": null,
      "metadata": {
        "id": "QAX1THll-IgS"
      },
      "outputs": [],
      "source": [
        "import torchvision\n",
        "import torchvision.transforms as transforms\n",
        "\n",
        "mean = (0.4913997551666284, 0.48215855929893703, 0.4465309133731618)\n",
        "std = (0.24703225141799082, 0.24348516474564, 0.26158783926049628)\n",
        "\n",
        "transform = transforms.Compose(\n",
        "    [transforms.ToTensor(),\n",
        "     transforms.Normalize(mean, std)])\n",
        "\n",
        "trainset = torchvision.datasets.CIFAR10(root='./data', train=True,\n",
        "                                        download=True, transform=transform)\n",
        "trainloader = torch.utils.data.DataLoader(trainset, batch_size=64,\n",
        "                                          shuffle=True, num_workers=2)\n",
        "\n",
        "testset = torchvision.datasets.CIFAR10(root='./data', train=False,\n",
        "                                       download=True, transform=transform)\n",
        "testloader = torch.utils.data.DataLoader(testset, batch_size=64,\n",
        "                                         shuffle=False, num_workers=2)\n",
        "classes = ('plane', 'car', 'bird', 'cat',\n",
        "           'deer', 'dog', 'frog', 'horse', 'ship', 'truck')\n"
      ]
    },
    {
      "cell_type": "code",
      "execution_count": null,
      "metadata": {
        "id": "TXeHsX_I_veV"
      },
      "outputs": [],
      "source": [
        "import matplotlib.pyplot as plt\n",
        "\n",
        "# get some random training images\n",
        "images, labels = next(iter(trainloader))\n",
        "images, labels = images[:4], labels[:4]\n",
        "\n",
        "# show images\n",
        "img = torchvision.utils.make_grid(images, padding=0)\n",
        "img = img * np.array(std)[:, None, None] + np.array(mean)[:, None, None]  # unnormalize\n",
        "npimg = img.numpy().clip(0, 1)\n",
        "fig, ax = plt.subplots(figsize=(10, 10))\n",
        "ax.imshow(np.transpose(npimg, (1, 2, 0)))\n",
        "for i in range(4):\n",
        "    ax.text((i + 0.5) * (img.shape[-1] // 4), -2, classes[labels[i]], ha='center', fontsize=16)\n",
        "plt.show()\n"
      ]
    },
    {
      "cell_type": "code",
      "execution_count": null,
      "metadata": {
        "id": "-7w-ZoDu_ZKd"
      },
      "outputs": [],
      "source": [
        "assert torch.cuda.is_available(), \"Notebook is not configured properly!\"\n",
        "device = 'cuda:0'\n",
        "\n",
        "net = VGG16(num_classes=10).to(device)\n",
        "\n",
        "# Nothing works w/o Batch Norm or Proper Initialization\n",
        "\n",
        "\n",
        "def initialize_weights(model):\n",
        "    for m in model.modules():\n",
        "        if isinstance(m, nn.Conv2d):\n",
        "            nn.init.kaiming_normal_(m.weight, mode=\"fan_out\", nonlinearity=\"relu\")\n",
        "            if m.bias is not None:\n",
        "                nn.init.constant_(m.bias, 0)\n",
        "        elif isinstance(m, nn.BatchNorm2d):\n",
        "            nn.init.constant_(m.weight, 1)\n",
        "            nn.init.constant_(m.bias, 0)\n",
        "        elif isinstance(m, nn.Linear):\n",
        "            nn.init.normal_(m.weight, 0, 0.01)\n",
        "            nn.init.constant_(m.bias, 0)\n",
        "\n",
        "\n",
        "initialize_weights(net)\n",
        "crit = nn.CrossEntropyLoss()\n",
        "opt = torch.optim.SGD(net.parameters(), lr=0.01, momentum=0.9)\n",
        "epochs = 10\n",
        "print(torch.cuda.get_device_name())\n"
      ]
    },
    {
      "cell_type": "code",
      "execution_count": null,
      "metadata": {
        "id": "wNn2W2ZLKSf9"
      },
      "outputs": [],
      "source": [
        "from tqdm.notebook import tqdm\n",
        "\n",
        "\n",
        "for e in range(epochs):\n",
        "    pbar = tqdm(total=len(trainloader), desc=f'Epoch {e}')\n",
        "    net.train()\n",
        "    for i, (x, y) in enumerate(trainloader):\n",
        "        x, y = x.to(device), y.to(device)\n",
        "        y_pred = net(x)\n",
        "        loss = crit(y_pred, y)\n",
        "\n",
        "        opt.zero_grad()\n",
        "        loss.backward()\n",
        "        opt.step()\n",
        "        pbar.update(1)\n",
        "        pbar.set_postfix({'Loss': loss.item()})\n",
        "    pbar.close()\n",
        "\n",
        "    with torch.no_grad():\n",
        "        net.eval()\n",
        "        correct = 0\n",
        "        for x, y in testloader:\n",
        "            x, y = x.to(device), y.to(device)\n",
        "            y_pred = net(x)\n",
        "            correct += (torch.max(y_pred, 1)[1] == y).sum()\n",
        "    print(f\"Accuracy for epoch {e}: {correct / len(testset):.2%}\")\n"
      ]
    },
    {
      "cell_type": "code",
      "execution_count": null,
      "metadata": {
        "id": "S6-M1HglEfU-"
      },
      "outputs": [],
      "source": []
    }
  ],
  "metadata": {
    "accelerator": "GPU",
    "colab": {
      "collapsed_sections": [],
      "name": "vgg16_sol (1).ipynb",
      "provenance": []
    },
    "kernelspec": {
      "display_name": "Python 3",
      "name": "python3"
    },
    "language_info": {
      "codemirror_mode": {
        "name": "ipython",
        "version": 3
      },
      "file_extension": ".py",
      "mimetype": "text/x-python",
      "name": "python",
      "nbconvert_exporter": "python",
      "pygments_lexer": "ipython3",
      "version": "3.10.13"
    }
  },
  "nbformat": 4,
  "nbformat_minor": 0
}
