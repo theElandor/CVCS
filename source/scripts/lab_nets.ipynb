{
 "cells": [
  {
   "cell_type": "code",
   "execution_count": 1,
   "metadata": {},
   "outputs": [
    {
     "name": "stderr",
     "output_type": "stream",
     "text": [
      "C:\\Users\\eros\\AppData\\Local\\Packages\\PythonSoftwareFoundation.Python.3.10_qbz5n2kfra8p0\\LocalCache\\local-packages\\Python310\\site-packages\\tqdm\\auto.py:21: TqdmWarning: IProgress not found. Please update jupyter and ipywidgets. See https://ipywidgets.readthedocs.io/en/stable/user_install.html\n",
      "  from .autonotebook import tqdm as notebook_tqdm\n"
     ]
    }
   ],
   "source": [
    "from blocks import UnetEncodeLayer,UnetUpscaleLayer,UnetForwardDecodeLayer, conv3x3\n",
    "import torch\n",
    "import torch.nn as nn\n",
    "import torchvision\n",
    "import torchvision.transforms.v2 as v2\n",
    "import torchvision.transforms.functional as functional\n",
    "import math\n",
    "from transformers import AutoModel, AutoImageProcessor, SegformerForSemanticSegmentation, SegformerConfig\n",
    "from blocks import UnetEncodeLayer,UnetUpscaleLayer,UnetForwardDecodeLayer, VisionTransformerEncoder\n",
    "from torchvision.models.segmentation import deeplabv3_resnet101,deeplabv3_mobilenet_v3_large"
   ]
  },
  {
   "cell_type": "code",
   "execution_count": 7,
   "metadata": {},
   "outputs": [],
   "source": [
    "class DeepLabV3MobileNet_test(nn.Module):\n",
    "\tdef __init__(self, num_classes, pretrained=True):\n",
    "\t\tsuper(DeepLabV3MobileNet_test, self).__init__()\t\t\n",
    "\t\tself.requires_context = False\n",
    "\t\tself.wrapper = True\n",
    "\t\tself.returns_logits = True\t\t\n",
    "\t\tself.num_classes = num_classes\n",
    "\n",
    "\t\tif pretrained:\n",
    "\t\t\tself.model = deeplabv3_mobilenet_v3_large( weights=torchvision.models.segmentation.DeepLabV3_MobileNet_V3_Large_Weights.DEFAULT)\n",
    "\t\t\tin_channels = self.model.classifier[4].in_channels\n",
    "\t\t\tprint(self.model.classifier)\n",
    "\t\t\tself.model.classifier[4] = torch.nn.Conv2d(in_channels, self.num_classes, kernel_size=1)\n",
    "\t\t\tprint(self.model.classifier)\n",
    "\t\telse:\n",
    "\t\t\tself.model = deeplabv3_mobilenet_v3_large(self.num_classes)\n",
    "\tdef forward(self, x: torch.Tensor, context=None):\n",
    "\t\td = self.model(x)\n",
    "\t\treturn d['out']\n",
    "\tdef custom_load(self, checkpoint):\n",
    "\t\tcheckpoint_state_dict_mod = {}\n",
    "\t\tcheckpoint_state_dict = checkpoint['model_state_dict']\n",
    "\t\tfor item in checkpoint_state_dict:\n",
    "\t\t\tcheckpoint_state_dict_mod[str(item).replace('module.', '')] = checkpoint_state_dict[item]\n",
    "\t\tself.model.load_state_dict(checkpoint_state_dict_mod)\t\t"
   ]
  },
  {
   "cell_type": "code",
   "execution_count": 9,
   "metadata": {},
   "outputs": [
    {
     "name": "stdout",
     "output_type": "stream",
     "text": [
      "DeepLabHead(\n",
      "  (0): ASPP(\n",
      "    (convs): ModuleList(\n",
      "      (0): Sequential(\n",
      "        (0): Conv2d(960, 256, kernel_size=(1, 1), stride=(1, 1), bias=False)\n",
      "        (1): BatchNorm2d(256, eps=1e-05, momentum=0.1, affine=True, track_running_stats=True)\n",
      "        (2): ReLU()\n",
      "      )\n",
      "      (1): ASPPConv(\n",
      "        (0): Conv2d(960, 256, kernel_size=(3, 3), stride=(1, 1), padding=(12, 12), dilation=(12, 12), bias=False)\n",
      "        (1): BatchNorm2d(256, eps=1e-05, momentum=0.1, affine=True, track_running_stats=True)\n",
      "        (2): ReLU()\n",
      "      )\n",
      "      (2): ASPPConv(\n",
      "        (0): Conv2d(960, 256, kernel_size=(3, 3), stride=(1, 1), padding=(24, 24), dilation=(24, 24), bias=False)\n",
      "        (1): BatchNorm2d(256, eps=1e-05, momentum=0.1, affine=True, track_running_stats=True)\n",
      "        (2): ReLU()\n",
      "      )\n",
      "      (3): ASPPConv(\n",
      "        (0): Conv2d(960, 256, kernel_size=(3, 3), stride=(1, 1), padding=(36, 36), dilation=(36, 36), bias=False)\n",
      "        (1): BatchNorm2d(256, eps=1e-05, momentum=0.1, affine=True, track_running_stats=True)\n",
      "        (2): ReLU()\n",
      "      )\n",
      "      (4): ASPPPooling(\n",
      "        (0): AdaptiveAvgPool2d(output_size=1)\n",
      "        (1): Conv2d(960, 256, kernel_size=(1, 1), stride=(1, 1), bias=False)\n",
      "        (2): BatchNorm2d(256, eps=1e-05, momentum=0.1, affine=True, track_running_stats=True)\n",
      "        (3): ReLU()\n",
      "      )\n",
      "    )\n",
      "    (project): Sequential(\n",
      "      (0): Conv2d(1280, 256, kernel_size=(1, 1), stride=(1, 1), bias=False)\n",
      "      (1): BatchNorm2d(256, eps=1e-05, momentum=0.1, affine=True, track_running_stats=True)\n",
      "      (2): ReLU()\n",
      "      (3): Dropout(p=0.5, inplace=False)\n",
      "    )\n",
      "  )\n",
      "  (1): Conv2d(256, 256, kernel_size=(3, 3), stride=(1, 1), padding=(1, 1), bias=False)\n",
      "  (2): BatchNorm2d(256, eps=1e-05, momentum=0.1, affine=True, track_running_stats=True)\n",
      "  (3): ReLU()\n",
      "  (4): Conv2d(256, 21, kernel_size=(1, 1), stride=(1, 1))\n",
      ")\n",
      "DeepLabHead(\n",
      "  (0): ASPP(\n",
      "    (convs): ModuleList(\n",
      "      (0): Sequential(\n",
      "        (0): Conv2d(960, 256, kernel_size=(1, 1), stride=(1, 1), bias=False)\n",
      "        (1): BatchNorm2d(256, eps=1e-05, momentum=0.1, affine=True, track_running_stats=True)\n",
      "        (2): ReLU()\n",
      "      )\n",
      "      (1): ASPPConv(\n",
      "        (0): Conv2d(960, 256, kernel_size=(3, 3), stride=(1, 1), padding=(12, 12), dilation=(12, 12), bias=False)\n",
      "        (1): BatchNorm2d(256, eps=1e-05, momentum=0.1, affine=True, track_running_stats=True)\n",
      "        (2): ReLU()\n",
      "      )\n",
      "      (2): ASPPConv(\n",
      "        (0): Conv2d(960, 256, kernel_size=(3, 3), stride=(1, 1), padding=(24, 24), dilation=(24, 24), bias=False)\n",
      "        (1): BatchNorm2d(256, eps=1e-05, momentum=0.1, affine=True, track_running_stats=True)\n",
      "        (2): ReLU()\n",
      "      )\n",
      "      (3): ASPPConv(\n",
      "        (0): Conv2d(960, 256, kernel_size=(3, 3), stride=(1, 1), padding=(36, 36), dilation=(36, 36), bias=False)\n",
      "        (1): BatchNorm2d(256, eps=1e-05, momentum=0.1, affine=True, track_running_stats=True)\n",
      "        (2): ReLU()\n",
      "      )\n",
      "      (4): ASPPPooling(\n",
      "        (0): AdaptiveAvgPool2d(output_size=1)\n",
      "        (1): Conv2d(960, 256, kernel_size=(1, 1), stride=(1, 1), bias=False)\n",
      "        (2): BatchNorm2d(256, eps=1e-05, momentum=0.1, affine=True, track_running_stats=True)\n",
      "        (3): ReLU()\n",
      "      )\n",
      "    )\n",
      "    (project): Sequential(\n",
      "      (0): Conv2d(1280, 256, kernel_size=(1, 1), stride=(1, 1), bias=False)\n",
      "      (1): BatchNorm2d(256, eps=1e-05, momentum=0.1, affine=True, track_running_stats=True)\n",
      "      (2): ReLU()\n",
      "      (3): Dropout(p=0.5, inplace=False)\n",
      "    )\n",
      "  )\n",
      "  (1): Conv2d(256, 256, kernel_size=(3, 3), stride=(1, 1), padding=(1, 1), bias=False)\n",
      "  (2): BatchNorm2d(256, eps=1e-05, momentum=0.1, affine=True, track_running_stats=True)\n",
      "  (3): ReLU()\n",
      "  (4): Conv2d(256, 16, kernel_size=(1, 1), stride=(1, 1))\n",
      ")\n"
     ]
    }
   ],
   "source": [
    "net = DeepLabV3MobileNet_test(16)"
   ]
  }
 ],
 "metadata": {
  "kernelspec": {
   "display_name": "Python 3",
   "language": "python",
   "name": "python3"
  },
  "language_info": {
   "codemirror_mode": {
    "name": "ipython",
    "version": 3
   },
   "file_extension": ".py",
   "mimetype": "text/x-python",
   "name": "python",
   "nbconvert_exporter": "python",
   "pygments_lexer": "ipython3",
   "version": "3.10.11"
  }
 },
 "nbformat": 4,
 "nbformat_minor": 2
}
