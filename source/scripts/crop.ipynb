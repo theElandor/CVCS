{
 "cells": [
  {
   "cell_type": "code",
   "execution_count": 2,
   "metadata": {},
   "outputs": [],
   "source": [
    "import os\n",
    "from pathlib import Path\n",
    "from PIL import Image\n",
    "import torch\n",
    "from torchvision.transforms import ToTensor"
   ]
  },
  {
   "cell_type": "code",
   "execution_count": 5,
   "metadata": {},
   "outputs": [],
   "source": [
    "import matplotlib.pyplot as plt\n",
    "import torchvision.utils as utils\n",
    "\n",
    "def crop_and_save(image, index, p, dest):\n",
    "    c, h, w = image.shape\n",
    "    hn = h // p\n",
    "    wn = w // p\n",
    "    for i in range(hn): # 0...30\n",
    "        for j in range(wn): # 0...32\n",
    "            if c == 4:\n",
    "            \ttile = image[1:, (i*p):(i*p)+p, (j*p):(j*p)+p]\n",
    "            else:\n",
    "                tile = image[:, (i*p):(i*p)+p, (j*p):(j*p)+p]\n",
    "            utils.save_image(tile, os.path.join(dest, f\"{(index)*(hn*wn)+(i*wn)+j}.png\"))\n",
    "\n",
    "\n",
    "p = 224\n",
    "root = \"C:\\\\Users\\\\web\\\\Documents\\\\gaofen\\\\Test\"\n",
    "\n",
    "folders = [\"Annotation__index\", \"Annotation__color\", \"Image__8bit_NirRGB\"]\n",
    "dest = \"Patches_224x224\"\n",
    "for folder in folders:\n",
    "    Path(os.path.join(root, dest, folder)).mkdir(parents = True, exist_ok=True)\n",
    "for folder in folders:\n",
    "    source = os.path.join(root, folder)\n",
    "    image_files = [item for item in os.listdir(source)]\n",
    "    for i,image in enumerate(image_files):\n",
    "        image_path = os.path.join(source, image)\n",
    "        im = ToTensor()(Image.open(image_path))\n",
    "        crop_and_save(im, i, p,os.path.join(root, dest, folder))\n"
   ]
  },
  {
   "cell_type": "code",
   "execution_count": null,
   "metadata": {},
   "outputs": [],
   "source": [
    "from torch.utils.data import Dataset\n",
    "import os\n",
    "from PIL import Image\n",
    "from torchvision.transforms import ToTensor\n",
    "import matplotlib.pyplot as plt\n",
    "class Cropped5BP(Dataset):\n",
    "\tdef __init__(self, root):\n",
    "\t\tself.image_dir = os.path.join(root, 'Image__8bit_NirRGB')\n",
    "\t\tself.index_dir = os.path.join(root, 'Annotation__index')\n",
    "\t\tself.color_dir = os.path.join(root, 'Annotation__color')\n",
    "\tdef __len__(self):\n",
    "\t\tfiles = [os.path.join(self.image_dir,item) for item in os.listdir(path=self.image_dir)]\t\t\n",
    "\t\treturn len(files)\n",
    "\tdef __getitem__(self, idx):\n",
    "\t\timage = ToTensor()(Image.open(os.path.join(self.image_dir, str(idx)+\".png\")))\n",
    "\t\tindex = ToTensor()(Image.open(os.path.join(self.index_dir, str(idx)+\".png\")))\n",
    "\t\tcolor = ToTensor()(Image.open(os.path.join(self.color_dir, str(idx)+\".png\")))\n",
    "\t\treturn image, index, color\n",
    "dataset = Cropped5BP(\"C:\\\\Users\\\\web\\\\Documents\\\\gaofen\\\\Test\\\\Patches_224x224\")\n",
    "train_loader = torch.utils.data.DataLoader(dataset, shuffle=True, batch_size=1)\n",
    "for image, index, color in train_loader:\n",
    "\tplt.imshow(image.squeeze().permute(1,2,0))\t\n",
    "\tplt.show()\n",
    "\tplt.imshow(color.squeeze().permute(1,2,0))\n",
    "\tplt.show()\n"
   ]
  }
 ],
 "metadata": {
  "kernelspec": {
   "display_name": "Python 3",
   "language": "python",
   "name": "python3"
  },
  "language_info": {
   "codemirror_mode": {
    "name": "ipython",
    "version": 3
   },
   "file_extension": ".py",
   "mimetype": "text/x-python",
   "name": "python",
   "nbconvert_exporter": "python",
   "pygments_lexer": "ipython3",
   "version": "3.9.13"
  }
 },
 "nbformat": 4,
 "nbformat_minor": 2
}
