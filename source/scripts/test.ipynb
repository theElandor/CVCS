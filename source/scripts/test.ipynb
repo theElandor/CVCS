{
 "cells": [
  {
   "cell_type": "code",
   "execution_count": 18,
   "metadata": {},
   "outputs": [],
   "source": [
    "from dataset import Loader\n",
    "import torch\n",
    "import matplotlib.pyplot as plt"
   ]
  },
  {
   "cell_type": "code",
   "execution_count": null,
   "metadata": {},
   "outputs": [],
   "source": [
    "\n",
    "def plot(image):\n",
    "    plt.imshow(image[0].permute(1,2,0))\n",
    "    plt.show()\n",
    "train = \"D:\\\\Datasets\\\\Patches_512x512\"\n",
    "Loader_train = Loader(train, chunk_size=1680, patch_size=224,load_context=False)\n",
    "c = Loader_train.get_iterable_chunk(0)\n",
    "dl = torch.utils.data.DataLoader(c, batch_size=1)\n",
    "\t\n",
    "    "
   ]
  },
  {
   "cell_type": "code",
   "execution_count": null,
   "metadata": {},
   "outputs": [],
   "source": [
    "print(len(Loader_train))\n",
    "print(len(c.patches))\n",
    "for i, (image, index_mask, color_mask,context) in enumerate(dl):\n",
    "    if i == 10:\n",
    "        break\n",
    "    plot(image)\n",
    "    plot(color_mask)"
   ]
  }
 ],
 "metadata": {
  "kernelspec": {
   "display_name": "Python 3",
   "language": "python",
   "name": "python3"
  },
  "language_info": {
   "codemirror_mode": {
    "name": "ipython",
    "version": 3
   },
   "file_extension": ".py",
   "mimetype": "text/x-python",
   "name": "python",
   "nbconvert_exporter": "python",
   "pygments_lexer": "ipython3",
   "version": "3.10.11"
  }
 },
 "nbformat": 4,
 "nbformat_minor": 2
}
