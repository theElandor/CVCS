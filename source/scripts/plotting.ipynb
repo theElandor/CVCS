{
 "cells": [
  {
   "cell_type": "code",
   "execution_count": 1,
   "metadata": {},
   "outputs": [
    {
     "name": "stderr",
     "output_type": "stream",
     "text": [
      "C:\\Users\\eros\\AppData\\Local\\Packages\\PythonSoftwareFoundation.Python.3.10_qbz5n2kfra8p0\\LocalCache\\local-packages\\Python310\\site-packages\\tqdm\\auto.py:21: TqdmWarning: IProgress not found. Please update jupyter and ipywidgets. See https://ipywidgets.readthedocs.io/en/stable/user_install.html\n",
      "  from .autonotebook import tqdm as notebook_tqdm\n"
     ]
    }
   ],
   "source": [
    "import utils\n",
    "import sys\n",
    "import yaml\n",
    "import dataset"
   ]
  },
  {
   "cell_type": "code",
   "execution_count": 2,
   "metadata": {},
   "outputs": [
    {
     "name": "stdout",
     "output_type": "stream",
     "text": [
      "Training network on NVIDIA GeForce GTX 1060 6GB\n",
      "Evaluating Ensemble\n",
      "Loaded checkpoint D:\\weights\\checkpoint8\n",
      "Loaded checkpoint D:\\weights\\checkpoint12\n",
      "Loaded checkpoint D:\\weights\\checkpoint20\n",
      "Loaded checkpoint D:\\weights\\segmod_heckpoint20\n",
      "Loading chunk:\n",
      "D:\\Datasets\\GID15\\gid-15\\GID\\Validation\\Image__8bit_NirRGB\\GF2_PMS1__L1A0001064454-MSS1.tif\n"
     ]
    },
    {
     "name": "stderr",
     "output_type": "stream",
     "text": [
      "Chunk 1: 100%|██████████| 960/960 [02:03<00:00,  7.79it/s]"
     ]
    },
    {
     "name": "stdout",
     "output_type": "stream",
     "text": [
      "Updating confusion matrix...\n",
      "Loading chunk:\n",
      "D:\\Datasets\\GID15\\gid-15\\GID\\Validation\\Image__8bit_NirRGB\\GF2_PMS1__L1A0001118839-MSS1.tif\n"
     ]
    },
    {
     "name": "stderr",
     "output_type": "stream",
     "text": [
      "\n",
      "Chunk 2: 100%|██████████| 960/960 [02:07<00:00,  7.50it/s]"
     ]
    },
    {
     "name": "stdout",
     "output_type": "stream",
     "text": [
      "Updating confusion matrix...\n",
      "Loading chunk:\n",
      "D:\\Datasets\\GID15\\gid-15\\GID\\Validation\\Image__8bit_NirRGB\\GF2_PMS1__L1A0001395956-MSS1.tif\n"
     ]
    },
    {
     "name": "stderr",
     "output_type": "stream",
     "text": [
      "\n",
      "Chunk 3: 100%|██████████| 960/960 [02:02<00:00,  7.81it/s]"
     ]
    },
    {
     "name": "stdout",
     "output_type": "stream",
     "text": [
      "Updating confusion matrix...\n",
      "Loading chunk:\n",
      "D:\\Datasets\\GID15\\gid-15\\GID\\Validation\\Image__8bit_NirRGB\\GF2_PMS1__L1A0001680858-MSS1.tif\n"
     ]
    },
    {
     "name": "stderr",
     "output_type": "stream",
     "text": [
      "\n",
      "Chunk 4: 100%|██████████| 960/960 [02:01<00:00,  7.89it/s]"
     ]
    },
    {
     "name": "stdout",
     "output_type": "stream",
     "text": [
      "Updating confusion matrix...\n",
      "Loading chunk:\n",
      "D:\\Datasets\\GID15\\gid-15\\GID\\Validation\\Image__8bit_NirRGB\\GF2_PMS2__L1A0000718813-MSS2.tif\n"
     ]
    },
    {
     "name": "stderr",
     "output_type": "stream",
     "text": [
      "\n",
      "Chunk 5: 100%|██████████| 960/960 [02:02<00:00,  7.84it/s]"
     ]
    },
    {
     "name": "stdout",
     "output_type": "stream",
     "text": [
      "Updating confusion matrix...\n",
      "Loading chunk:\n",
      "D:\\Datasets\\GID15\\gid-15\\GID\\Validation\\Image__8bit_NirRGB\\GF2_PMS2__L1A0001378501-MSS2.tif\n"
     ]
    },
    {
     "name": "stderr",
     "output_type": "stream",
     "text": [
      "\n",
      "Chunk 6: 100%|██████████| 960/960 [02:05<00:00,  7.68it/s]"
     ]
    },
    {
     "name": "stdout",
     "output_type": "stream",
     "text": [
      "Updating confusion matrix...\n",
      "Loading chunk:\n",
      "D:\\Datasets\\GID15\\gid-15\\GID\\Validation\\Image__8bit_NirRGB\\GF2_PMS2__L1A0001471436-MSS2.tif\n"
     ]
    },
    {
     "name": "stderr",
     "output_type": "stream",
     "text": [
      "\n",
      "Chunk 7: 100%|██████████| 960/960 [02:05<00:00,  7.66it/s]"
     ]
    },
    {
     "name": "stdout",
     "output_type": "stream",
     "text": [
      "Updating confusion matrix...\n",
      "Loading chunk:\n",
      "D:\\Datasets\\GID15\\gid-15\\GID\\Validation\\Image__8bit_NirRGB\\GF2_PMS2__L1A0001517494-MSS2.tif\n"
     ]
    },
    {
     "name": "stderr",
     "output_type": "stream",
     "text": [
      "\n",
      "Chunk 8: 100%|██████████| 960/960 [02:03<00:00,  7.74it/s]"
     ]
    },
    {
     "name": "stdout",
     "output_type": "stream",
     "text": [
      "Updating confusion matrix...\n",
      "Loading chunk:\n",
      "D:\\Datasets\\GID15\\gid-15\\GID\\Validation\\Image__8bit_NirRGB\\GF2_PMS2__L1A0001787564-MSS2.tif\n"
     ]
    },
    {
     "name": "stderr",
     "output_type": "stream",
     "text": [
      "\n",
      "Chunk 9: 100%|██████████| 960/960 [02:03<00:00,  7.78it/s]"
     ]
    },
    {
     "name": "stdout",
     "output_type": "stream",
     "text": [
      "Updating confusion matrix...\n",
      "Loading chunk:\n",
      "D:\\Datasets\\GID15\\gid-15\\GID\\Validation\\Image__8bit_NirRGB\\GF2_PMS2__L1A0001821754-MSS2.tif\n"
     ]
    },
    {
     "name": "stderr",
     "output_type": "stream",
     "text": [
      "\n",
      "Chunk 10: 100%|██████████| 960/960 [02:03<00:00,  7.74it/s]"
     ]
    },
    {
     "name": "stdout",
     "output_type": "stream",
     "text": [
      "Updating confusion matrix...\n",
      "+--------+---------------------+\n",
      "| Metric |               Score |\n",
      "+--------+---------------------+\n",
      "|   mIoU | 0.42954108119010925 |\n",
      "|  mPrec |  0.6583727598190308 |\n",
      "|   mRec |  0.5231001377105713 |\n",
      "|   Dice |    0.55283123254776 |\n",
      "|     OA |  0.7563959757486979 |\n",
      "+--------+---------------------+\n",
      "Excluded classes (not in target): []\n",
      "+----------------------+----------------------+\n",
      "|                Class |                  IoU |\n",
      "+----------------------+----------------------+\n",
      "|            unlabeled |   0.6108530163764954 |\n",
      "|      industrial land |   0.5415536165237427 |\n",
      "|    urban residential |   0.6413780450820923 |\n",
      "|    rural residential |   0.4644148647785187 |\n",
      "|         traffic land |   0.3921808898448944 |\n",
      "|          paddy field |    0.545327365398407 |\n",
      "|   irrigated cropland |   0.7287577390670776 |\n",
      "|         dry cropland | 0.010316040366888046 |\n",
      "|          garden plot |  0.03242997080087662 |\n",
      "|         arbor forest |   0.7121991515159607 |\n",
      "|           shrub land | 0.001997963758185506 |\n",
      "|    natural grassland |  0.43991050124168396 |\n",
      "| artificial grassland |  0.14055266976356506 |\n",
      "|                river |   0.6471417546272278 |\n",
      "|                 lake |  0.40744584798812866 |\n",
      "|                 pond |   0.5561984181404114 |\n",
      "+----------------------+----------------------+\n"
     ]
    },
    {
     "name": "stderr",
     "output_type": "stream",
     "text": [
      "\n"
     ]
    },
    {
     "name": "stdout",
     "output_type": "stream",
     "text": [
      "Evaluating Unetv2\n",
      "Loaded checkpoint D:\\weights\\checkpoint8\n",
      "Loading chunk:\n",
      "D:\\Datasets\\GID15\\gid-15\\GID\\Validation\\Image__8bit_NirRGB\\GF2_PMS1__L1A0001064454-MSS1.tif\n"
     ]
    },
    {
     "name": "stderr",
     "output_type": "stream",
     "text": [
      "Chunk 1: 100%|██████████| 960/960 [00:37<00:00, 25.72it/s]"
     ]
    },
    {
     "name": "stdout",
     "output_type": "stream",
     "text": [
      "Updating confusion matrix...\n",
      "Loading chunk:\n",
      "D:\\Datasets\\GID15\\gid-15\\GID\\Validation\\Image__8bit_NirRGB\\GF2_PMS1__L1A0001118839-MSS1.tif\n"
     ]
    },
    {
     "name": "stderr",
     "output_type": "stream",
     "text": [
      "\n",
      "Chunk 2: 100%|██████████| 960/960 [00:37<00:00, 25.79it/s]"
     ]
    },
    {
     "name": "stdout",
     "output_type": "stream",
     "text": [
      "Updating confusion matrix...\n",
      "Loading chunk:\n",
      "D:\\Datasets\\GID15\\gid-15\\GID\\Validation\\Image__8bit_NirRGB\\GF2_PMS1__L1A0001395956-MSS1.tif\n"
     ]
    },
    {
     "name": "stderr",
     "output_type": "stream",
     "text": [
      "\n",
      "Chunk 3: 100%|██████████| 960/960 [00:37<00:00, 25.67it/s]"
     ]
    },
    {
     "name": "stdout",
     "output_type": "stream",
     "text": [
      "Updating confusion matrix...\n",
      "Loading chunk:\n",
      "D:\\Datasets\\GID15\\gid-15\\GID\\Validation\\Image__8bit_NirRGB\\GF2_PMS1__L1A0001680858-MSS1.tif\n"
     ]
    },
    {
     "name": "stderr",
     "output_type": "stream",
     "text": [
      "\n",
      "Chunk 4: 100%|██████████| 960/960 [00:37<00:00, 25.52it/s]"
     ]
    },
    {
     "name": "stdout",
     "output_type": "stream",
     "text": [
      "Updating confusion matrix...\n",
      "Loading chunk:\n",
      "D:\\Datasets\\GID15\\gid-15\\GID\\Validation\\Image__8bit_NirRGB\\GF2_PMS2__L1A0000718813-MSS2.tif\n"
     ]
    },
    {
     "name": "stderr",
     "output_type": "stream",
     "text": [
      "\n",
      "Chunk 5: 100%|██████████| 960/960 [00:37<00:00, 25.30it/s]"
     ]
    },
    {
     "name": "stdout",
     "output_type": "stream",
     "text": [
      "Updating confusion matrix...\n",
      "Loading chunk:\n",
      "D:\\Datasets\\GID15\\gid-15\\GID\\Validation\\Image__8bit_NirRGB\\GF2_PMS2__L1A0001378501-MSS2.tif\n"
     ]
    },
    {
     "name": "stderr",
     "output_type": "stream",
     "text": [
      "\n",
      "Chunk 6: 100%|██████████| 960/960 [00:37<00:00, 25.86it/s]"
     ]
    },
    {
     "name": "stdout",
     "output_type": "stream",
     "text": [
      "Updating confusion matrix...\n",
      "Loading chunk:\n",
      "D:\\Datasets\\GID15\\gid-15\\GID\\Validation\\Image__8bit_NirRGB\\GF2_PMS2__L1A0001471436-MSS2.tif\n"
     ]
    },
    {
     "name": "stderr",
     "output_type": "stream",
     "text": [
      "\n",
      "Chunk 7: 100%|██████████| 960/960 [00:36<00:00, 26.07it/s]"
     ]
    },
    {
     "name": "stdout",
     "output_type": "stream",
     "text": [
      "Updating confusion matrix...\n",
      "Loading chunk:\n",
      "D:\\Datasets\\GID15\\gid-15\\GID\\Validation\\Image__8bit_NirRGB\\GF2_PMS2__L1A0001517494-MSS2.tif\n"
     ]
    },
    {
     "name": "stderr",
     "output_type": "stream",
     "text": [
      "\n",
      "Chunk 8: 100%|██████████| 960/960 [00:36<00:00, 26.18it/s]"
     ]
    },
    {
     "name": "stdout",
     "output_type": "stream",
     "text": [
      "Updating confusion matrix...\n",
      "Loading chunk:\n",
      "D:\\Datasets\\GID15\\gid-15\\GID\\Validation\\Image__8bit_NirRGB\\GF2_PMS2__L1A0001787564-MSS2.tif\n"
     ]
    },
    {
     "name": "stderr",
     "output_type": "stream",
     "text": [
      "\n",
      "Chunk 9: 100%|██████████| 960/960 [00:36<00:00, 26.09it/s]"
     ]
    },
    {
     "name": "stdout",
     "output_type": "stream",
     "text": [
      "Updating confusion matrix...\n",
      "Loading chunk:\n",
      "D:\\Datasets\\GID15\\gid-15\\GID\\Validation\\Image__8bit_NirRGB\\GF2_PMS2__L1A0001821754-MSS2.tif\n"
     ]
    },
    {
     "name": "stderr",
     "output_type": "stream",
     "text": [
      "\n",
      "Chunk 10: 100%|██████████| 960/960 [00:36<00:00, 26.16it/s]"
     ]
    },
    {
     "name": "stdout",
     "output_type": "stream",
     "text": [
      "Updating confusion matrix...\n",
      "+--------+---------------------+\n",
      "| Metric |               Score |\n",
      "+--------+---------------------+\n",
      "|   mIoU |  0.2872416079044342 |\n",
      "|  mPrec |  0.5380052328109741 |\n",
      "|   mRec |  0.3845590353012085 |\n",
      "|   Dice | 0.38127613067626953 |\n",
      "|     OA |  0.6933811504338063 |\n",
      "+--------+---------------------+\n",
      "Excluded classes (not in target): []\n",
      "+----------------------+-----------------------+\n",
      "|                Class |                   IoU |\n",
      "+----------------------+-----------------------+\n",
      "|            unlabeled |    0.5594379901885986 |\n",
      "|      industrial land |    0.4657061994075775 |\n",
      "|    urban residential |    0.5618806481361389 |\n",
      "|    rural residential |   0.35712966322898865 |\n",
      "|         traffic land |    0.3366756737232208 |\n",
      "|          paddy field |   0.09304352849721909 |\n",
      "|   irrigated cropland |    0.6717448234558105 |\n",
      "|         dry cropland |  0.000915168144274503 |\n",
      "|          garden plot |  0.008076216094195843 |\n",
      "|         arbor forest |    0.6905279755592346 |\n",
      "|           shrub land | 3.022091505044955e-06 |\n",
      "|    natural grassland | 0.0034048594534397125 |\n",
      "| artificial grassland |                   0.0 |\n",
      "|                river |     0.501827597618103 |\n",
      "|                 lake |  0.000670440262183547 |\n",
      "|                 pond |    0.3448217809200287 |\n",
      "+----------------------+-----------------------+\n"
     ]
    },
    {
     "name": "stderr",
     "output_type": "stream",
     "text": [
      "\n"
     ]
    },
    {
     "name": "stdout",
     "output_type": "stream",
     "text": [
      "Evaluating Resnet101\n",
      "Loaded checkpoint D:\\weights\\checkpoint12\n",
      "Loading chunk:\n",
      "D:\\Datasets\\GID15\\gid-15\\GID\\Validation\\Image__8bit_NirRGB\\GF2_PMS1__L1A0001064454-MSS1.tif\n"
     ]
    },
    {
     "name": "stderr",
     "output_type": "stream",
     "text": [
      "Chunk 1: 100%|██████████| 960/960 [00:54<00:00, 17.54it/s]"
     ]
    },
    {
     "name": "stdout",
     "output_type": "stream",
     "text": [
      "Updating confusion matrix...\n",
      "Loading chunk:\n",
      "D:\\Datasets\\GID15\\gid-15\\GID\\Validation\\Image__8bit_NirRGB\\GF2_PMS1__L1A0001118839-MSS1.tif\n"
     ]
    },
    {
     "name": "stderr",
     "output_type": "stream",
     "text": [
      "\n",
      "Chunk 2: 100%|██████████| 960/960 [00:56<00:00, 16.86it/s]"
     ]
    },
    {
     "name": "stdout",
     "output_type": "stream",
     "text": [
      "Updating confusion matrix...\n",
      "Loading chunk:\n",
      "D:\\Datasets\\GID15\\gid-15\\GID\\Validation\\Image__8bit_NirRGB\\GF2_PMS1__L1A0001395956-MSS1.tif\n"
     ]
    },
    {
     "name": "stderr",
     "output_type": "stream",
     "text": [
      "\n",
      "Chunk 3: 100%|██████████| 960/960 [00:54<00:00, 17.64it/s]"
     ]
    },
    {
     "name": "stdout",
     "output_type": "stream",
     "text": [
      "Updating confusion matrix...\n",
      "Loading chunk:\n",
      "D:\\Datasets\\GID15\\gid-15\\GID\\Validation\\Image__8bit_NirRGB\\GF2_PMS1__L1A0001680858-MSS1.tif\n"
     ]
    },
    {
     "name": "stderr",
     "output_type": "stream",
     "text": [
      "\n",
      "Chunk 4: 100%|██████████| 960/960 [00:54<00:00, 17.77it/s]"
     ]
    },
    {
     "name": "stdout",
     "output_type": "stream",
     "text": [
      "Updating confusion matrix...\n",
      "Loading chunk:\n",
      "D:\\Datasets\\GID15\\gid-15\\GID\\Validation\\Image__8bit_NirRGB\\GF2_PMS2__L1A0000718813-MSS2.tif\n"
     ]
    },
    {
     "name": "stderr",
     "output_type": "stream",
     "text": [
      "\n",
      "Chunk 5: 100%|██████████| 960/960 [00:52<00:00, 18.23it/s]"
     ]
    },
    {
     "name": "stdout",
     "output_type": "stream",
     "text": [
      "Updating confusion matrix...\n",
      "Loading chunk:\n",
      "D:\\Datasets\\GID15\\gid-15\\GID\\Validation\\Image__8bit_NirRGB\\GF2_PMS2__L1A0001378501-MSS2.tif\n"
     ]
    },
    {
     "name": "stderr",
     "output_type": "stream",
     "text": [
      "\n",
      "Chunk 6: 100%|██████████| 960/960 [00:52<00:00, 18.43it/s]"
     ]
    },
    {
     "name": "stdout",
     "output_type": "stream",
     "text": [
      "Updating confusion matrix...\n",
      "Loading chunk:\n",
      "D:\\Datasets\\GID15\\gid-15\\GID\\Validation\\Image__8bit_NirRGB\\GF2_PMS2__L1A0001471436-MSS2.tif\n"
     ]
    },
    {
     "name": "stderr",
     "output_type": "stream",
     "text": [
      "\n",
      "Chunk 7: 100%|██████████| 960/960 [00:52<00:00, 18.34it/s]"
     ]
    },
    {
     "name": "stdout",
     "output_type": "stream",
     "text": [
      "Updating confusion matrix...\n",
      "Loading chunk:\n",
      "D:\\Datasets\\GID15\\gid-15\\GID\\Validation\\Image__8bit_NirRGB\\GF2_PMS2__L1A0001517494-MSS2.tif\n"
     ]
    },
    {
     "name": "stderr",
     "output_type": "stream",
     "text": [
      "\n",
      "Chunk 8: 100%|██████████| 960/960 [00:51<00:00, 18.53it/s]"
     ]
    },
    {
     "name": "stdout",
     "output_type": "stream",
     "text": [
      "Updating confusion matrix...\n",
      "Loading chunk:\n",
      "D:\\Datasets\\GID15\\gid-15\\GID\\Validation\\Image__8bit_NirRGB\\GF2_PMS2__L1A0001787564-MSS2.tif\n"
     ]
    },
    {
     "name": "stderr",
     "output_type": "stream",
     "text": [
      "\n",
      "Chunk 9: 100%|██████████| 960/960 [00:51<00:00, 18.53it/s]"
     ]
    },
    {
     "name": "stdout",
     "output_type": "stream",
     "text": [
      "Updating confusion matrix...\n",
      "Loading chunk:\n",
      "D:\\Datasets\\GID15\\gid-15\\GID\\Validation\\Image__8bit_NirRGB\\GF2_PMS2__L1A0001821754-MSS2.tif\n"
     ]
    },
    {
     "name": "stderr",
     "output_type": "stream",
     "text": [
      "\n",
      "Chunk 10: 100%|██████████| 960/960 [00:53<00:00, 18.04it/s]"
     ]
    },
    {
     "name": "stdout",
     "output_type": "stream",
     "text": [
      "Updating confusion matrix...\n",
      "+--------+---------------------+\n",
      "| Metric |               Score |\n",
      "+--------+---------------------+\n",
      "|   mIoU | 0.44329726696014404 |\n",
      "|  mPrec |  0.6181712746620178 |\n",
      "|   mRec |  0.5839636325836182 |\n",
      "|   Dice |  0.5711365938186646 |\n",
      "|     OA |  0.7515284427980177 |\n",
      "+--------+---------------------+\n",
      "Excluded classes (not in target): []\n",
      "+----------------------+---------------------+\n",
      "|                Class |                 IoU |\n",
      "+----------------------+---------------------+\n",
      "|            unlabeled |  0.6012789607048035 |\n",
      "|      industrial land |  0.5537941455841064 |\n",
      "|    urban residential |  0.6467050313949585 |\n",
      "|    rural residential | 0.48842960596084595 |\n",
      "|         traffic land |  0.4669257402420044 |\n",
      "|          paddy field | 0.19178351759910583 |\n",
      "|   irrigated cropland |  0.7420849800109863 |\n",
      "|         dry cropland | 0.02977759949862957 |\n",
      "|          garden plot |  0.0615098662674427 |\n",
      "|         arbor forest |    0.72072833776474 |\n",
      "|           shrub land | 0.04293167218565941 |\n",
      "|    natural grassland |  0.5416145920753479 |\n",
      "| artificial grassland |  0.3574979901313782 |\n",
      "|                river |  0.7049638628959656 |\n",
      "|                 lake |   0.557279109954834 |\n",
      "|                 pond | 0.38545146584510803 |\n",
      "+----------------------+---------------------+\n"
     ]
    },
    {
     "name": "stderr",
     "output_type": "stream",
     "text": [
      "\n"
     ]
    },
    {
     "name": "stdout",
     "output_type": "stream",
     "text": [
      "Evaluating MobileNet\n",
      "Loaded checkpoint D:\\weights\\checkpoint20\n",
      "Loading chunk:\n",
      "D:\\Datasets\\GID15\\gid-15\\GID\\Validation\\Image__8bit_NirRGB\\GF2_PMS1__L1A0001064454-MSS1.tif\n"
     ]
    },
    {
     "name": "stderr",
     "output_type": "stream",
     "text": [
      "Chunk 1: 100%|██████████| 960/960 [00:14<00:00, 64.67it/s]"
     ]
    },
    {
     "name": "stdout",
     "output_type": "stream",
     "text": [
      "Updating confusion matrix...\n",
      "Loading chunk:\n",
      "D:\\Datasets\\GID15\\gid-15\\GID\\Validation\\Image__8bit_NirRGB\\GF2_PMS1__L1A0001118839-MSS1.tif\n"
     ]
    },
    {
     "name": "stderr",
     "output_type": "stream",
     "text": [
      "\n",
      "Chunk 2: 100%|██████████| 960/960 [00:14<00:00, 66.05it/s]"
     ]
    },
    {
     "name": "stdout",
     "output_type": "stream",
     "text": [
      "Updating confusion matrix...\n",
      "Loading chunk:\n",
      "D:\\Datasets\\GID15\\gid-15\\GID\\Validation\\Image__8bit_NirRGB\\GF2_PMS1__L1A0001395956-MSS1.tif\n"
     ]
    },
    {
     "name": "stderr",
     "output_type": "stream",
     "text": [
      "\n",
      "Chunk 3: 100%|██████████| 960/960 [00:14<00:00, 66.50it/s]"
     ]
    },
    {
     "name": "stdout",
     "output_type": "stream",
     "text": [
      "Updating confusion matrix...\n",
      "Loading chunk:\n",
      "D:\\Datasets\\GID15\\gid-15\\GID\\Validation\\Image__8bit_NirRGB\\GF2_PMS1__L1A0001680858-MSS1.tif\n"
     ]
    },
    {
     "name": "stderr",
     "output_type": "stream",
     "text": [
      "\n",
      "Chunk 4: 100%|██████████| 960/960 [00:14<00:00, 65.80it/s]"
     ]
    },
    {
     "name": "stdout",
     "output_type": "stream",
     "text": [
      "Updating confusion matrix...\n",
      "Loading chunk:\n",
      "D:\\Datasets\\GID15\\gid-15\\GID\\Validation\\Image__8bit_NirRGB\\GF2_PMS2__L1A0000718813-MSS2.tif\n"
     ]
    },
    {
     "name": "stderr",
     "output_type": "stream",
     "text": [
      "\n",
      "Chunk 5: 100%|██████████| 960/960 [00:14<00:00, 66.32it/s]"
     ]
    },
    {
     "name": "stdout",
     "output_type": "stream",
     "text": [
      "Updating confusion matrix...\n",
      "Loading chunk:\n",
      "D:\\Datasets\\GID15\\gid-15\\GID\\Validation\\Image__8bit_NirRGB\\GF2_PMS2__L1A0001378501-MSS2.tif\n"
     ]
    },
    {
     "name": "stderr",
     "output_type": "stream",
     "text": [
      "\n",
      "Chunk 6: 100%|██████████| 960/960 [00:14<00:00, 66.05it/s]"
     ]
    },
    {
     "name": "stdout",
     "output_type": "stream",
     "text": [
      "Updating confusion matrix...\n",
      "Loading chunk:\n",
      "D:\\Datasets\\GID15\\gid-15\\GID\\Validation\\Image__8bit_NirRGB\\GF2_PMS2__L1A0001471436-MSS2.tif\n"
     ]
    },
    {
     "name": "stderr",
     "output_type": "stream",
     "text": [
      "\n",
      "Chunk 7: 100%|██████████| 960/960 [00:14<00:00, 65.24it/s]"
     ]
    },
    {
     "name": "stdout",
     "output_type": "stream",
     "text": [
      "Updating confusion matrix...\n",
      "Loading chunk:\n",
      "D:\\Datasets\\GID15\\gid-15\\GID\\Validation\\Image__8bit_NirRGB\\GF2_PMS2__L1A0001517494-MSS2.tif\n"
     ]
    },
    {
     "name": "stderr",
     "output_type": "stream",
     "text": [
      "\n",
      "Chunk 8: 100%|██████████| 960/960 [00:14<00:00, 66.51it/s]"
     ]
    },
    {
     "name": "stdout",
     "output_type": "stream",
     "text": [
      "Updating confusion matrix...\n",
      "Loading chunk:\n",
      "D:\\Datasets\\GID15\\gid-15\\GID\\Validation\\Image__8bit_NirRGB\\GF2_PMS2__L1A0001787564-MSS2.tif\n"
     ]
    },
    {
     "name": "stderr",
     "output_type": "stream",
     "text": [
      "\n",
      "Chunk 9: 100%|██████████| 960/960 [00:14<00:00, 66.36it/s]"
     ]
    },
    {
     "name": "stdout",
     "output_type": "stream",
     "text": [
      "Updating confusion matrix...\n",
      "Loading chunk:\n",
      "D:\\Datasets\\GID15\\gid-15\\GID\\Validation\\Image__8bit_NirRGB\\GF2_PMS2__L1A0001821754-MSS2.tif\n"
     ]
    },
    {
     "name": "stderr",
     "output_type": "stream",
     "text": [
      "\n",
      "Chunk 10: 100%|██████████| 960/960 [00:14<00:00, 65.58it/s]"
     ]
    },
    {
     "name": "stdout",
     "output_type": "stream",
     "text": [
      "Updating confusion matrix...\n",
      "+--------+---------------------+\n",
      "| Metric |               Score |\n",
      "+--------+---------------------+\n",
      "|   mIoU | 0.43549013137817383 |\n",
      "|  mPrec |  0.5911405086517334 |\n",
      "|   mRec |  0.5970616936683655 |\n",
      "|   Dice |  0.5767355561256409 |\n",
      "|     OA |  0.7223303617101138 |\n",
      "+--------+---------------------+\n",
      "Excluded classes (not in target): []\n",
      "+----------------------+---------------------+\n",
      "|                Class |                 IoU |\n",
      "+----------------------+---------------------+\n",
      "|            unlabeled |  0.5509944558143616 |\n",
      "|      industrial land |  0.5373697876930237 |\n",
      "|    urban residential |  0.6309674382209778 |\n",
      "|    rural residential |  0.4930471181869507 |\n",
      "|         traffic land |  0.4092760980129242 |\n",
      "|          paddy field |  0.5940530300140381 |\n",
      "|   irrigated cropland |  0.7020483613014221 |\n",
      "|         dry cropland | 0.07870274037122726 |\n",
      "|          garden plot | 0.15512600541114807 |\n",
      "|         arbor forest |  0.6933166980743408 |\n",
      "|           shrub land | 0.06404751539230347 |\n",
      "|    natural grassland |  0.5132782459259033 |\n",
      "| artificial grassland |   0.298429936170578 |\n",
      "|                river | 0.34065210819244385 |\n",
      "|                 lake |  0.3473147749900818 |\n",
      "|                 pond |  0.5592174530029297 |\n",
      "+----------------------+---------------------+\n"
     ]
    },
    {
     "name": "stderr",
     "output_type": "stream",
     "text": [
      "\n"
     ]
    },
    {
     "name": "stdout",
     "output_type": "stream",
     "text": [
      "Evaluating SegformerMod\n",
      "Loaded checkpoint D:\\weights\\segmod_heckpoint20\n",
      "Loading chunk:\n",
      "D:\\Datasets\\GID15\\gid-15\\GID\\Validation\\Image__8bit_NirRGB\\GF2_PMS1__L1A0001064454-MSS1.tif\n"
     ]
    },
    {
     "name": "stderr",
     "output_type": "stream",
     "text": [
      "Chunk 1: 100%|██████████| 960/960 [00:14<00:00, 64.94it/s]"
     ]
    },
    {
     "name": "stdout",
     "output_type": "stream",
     "text": [
      "Updating confusion matrix...\n",
      "Loading chunk:\n",
      "D:\\Datasets\\GID15\\gid-15\\GID\\Validation\\Image__8bit_NirRGB\\GF2_PMS1__L1A0001118839-MSS1.tif\n"
     ]
    },
    {
     "name": "stderr",
     "output_type": "stream",
     "text": [
      "\n",
      "Chunk 2: 100%|██████████| 960/960 [00:14<00:00, 64.86it/s]"
     ]
    },
    {
     "name": "stdout",
     "output_type": "stream",
     "text": [
      "Updating confusion matrix...\n",
      "Loading chunk:\n",
      "D:\\Datasets\\GID15\\gid-15\\GID\\Validation\\Image__8bit_NirRGB\\GF2_PMS1__L1A0001395956-MSS1.tif\n"
     ]
    },
    {
     "name": "stderr",
     "output_type": "stream",
     "text": [
      "\n",
      "Chunk 3: 100%|██████████| 960/960 [00:15<00:00, 63.07it/s]"
     ]
    },
    {
     "name": "stdout",
     "output_type": "stream",
     "text": [
      "Updating confusion matrix...\n",
      "Loading chunk:\n",
      "D:\\Datasets\\GID15\\gid-15\\GID\\Validation\\Image__8bit_NirRGB\\GF2_PMS1__L1A0001680858-MSS1.tif\n"
     ]
    },
    {
     "name": "stderr",
     "output_type": "stream",
     "text": [
      "\n",
      "Chunk 4: 100%|██████████| 960/960 [00:14<00:00, 64.21it/s]"
     ]
    },
    {
     "name": "stdout",
     "output_type": "stream",
     "text": [
      "Updating confusion matrix...\n",
      "Loading chunk:\n",
      "D:\\Datasets\\GID15\\gid-15\\GID\\Validation\\Image__8bit_NirRGB\\GF2_PMS2__L1A0000718813-MSS2.tif\n"
     ]
    },
    {
     "name": "stderr",
     "output_type": "stream",
     "text": [
      "\n",
      "Chunk 5: 100%|██████████| 960/960 [00:14<00:00, 64.21it/s]"
     ]
    },
    {
     "name": "stdout",
     "output_type": "stream",
     "text": [
      "Updating confusion matrix...\n",
      "Loading chunk:\n",
      "D:\\Datasets\\GID15\\gid-15\\GID\\Validation\\Image__8bit_NirRGB\\GF2_PMS2__L1A0001378501-MSS2.tif\n"
     ]
    },
    {
     "name": "stderr",
     "output_type": "stream",
     "text": [
      "\n",
      "Chunk 6: 100%|██████████| 960/960 [00:14<00:00, 64.06it/s]"
     ]
    },
    {
     "name": "stdout",
     "output_type": "stream",
     "text": [
      "Updating confusion matrix...\n",
      "Loading chunk:\n",
      "D:\\Datasets\\GID15\\gid-15\\GID\\Validation\\Image__8bit_NirRGB\\GF2_PMS2__L1A0001471436-MSS2.tif\n"
     ]
    },
    {
     "name": "stderr",
     "output_type": "stream",
     "text": [
      "\n",
      "Chunk 7: 100%|██████████| 960/960 [00:15<00:00, 62.71it/s]"
     ]
    },
    {
     "name": "stdout",
     "output_type": "stream",
     "text": [
      "Updating confusion matrix...\n",
      "Loading chunk:\n",
      "D:\\Datasets\\GID15\\gid-15\\GID\\Validation\\Image__8bit_NirRGB\\GF2_PMS2__L1A0001517494-MSS2.tif\n"
     ]
    },
    {
     "name": "stderr",
     "output_type": "stream",
     "text": [
      "\n",
      "Chunk 8: 100%|██████████| 960/960 [00:15<00:00, 63.63it/s]"
     ]
    },
    {
     "name": "stdout",
     "output_type": "stream",
     "text": [
      "Updating confusion matrix...\n",
      "Loading chunk:\n",
      "D:\\Datasets\\GID15\\gid-15\\GID\\Validation\\Image__8bit_NirRGB\\GF2_PMS2__L1A0001787564-MSS2.tif\n"
     ]
    },
    {
     "name": "stderr",
     "output_type": "stream",
     "text": [
      "\n",
      "Chunk 9: 100%|██████████| 960/960 [00:15<00:00, 63.77it/s]"
     ]
    },
    {
     "name": "stdout",
     "output_type": "stream",
     "text": [
      "Updating confusion matrix...\n",
      "Loading chunk:\n",
      "D:\\Datasets\\GID15\\gid-15\\GID\\Validation\\Image__8bit_NirRGB\\GF2_PMS2__L1A0001821754-MSS2.tif\n"
     ]
    },
    {
     "name": "stderr",
     "output_type": "stream",
     "text": [
      "\n",
      "Chunk 10: 100%|██████████| 960/960 [00:14<00:00, 64.57it/s]\n"
     ]
    },
    {
     "name": "stdout",
     "output_type": "stream",
     "text": [
      "Updating confusion matrix...\n",
      "+--------+---------------------+\n",
      "| Metric |               Score |\n",
      "+--------+---------------------+\n",
      "|   mIoU |  0.3300158977508545 |\n",
      "|  mPrec |  0.5507329702377319 |\n",
      "|   mRec | 0.44665956497192383 |\n",
      "|   Dice | 0.44800621271133423 |\n",
      "|     OA |  0.6858294200248459 |\n",
      "+--------+---------------------+\n",
      "Excluded classes (not in target): []\n",
      "+----------------------+----------------------+\n",
      "|                Class |                  IoU |\n",
      "+----------------------+----------------------+\n",
      "|            unlabeled |    0.535017192363739 |\n",
      "|      industrial land |  0.46799084544181824 |\n",
      "|    urban residential |   0.6110306978225708 |\n",
      "|    rural residential |   0.4543916881084442 |\n",
      "|         traffic land |  0.34288161993026733 |\n",
      "|          paddy field |    0.508807361125946 |\n",
      "|   irrigated cropland |   0.6426007747650146 |\n",
      "|         dry cropland | 0.018017109483480453 |\n",
      "|          garden plot | 0.026356643065810204 |\n",
      "|         arbor forest |   0.6195340156555176 |\n",
      "|           shrub land |                  0.0 |\n",
      "|    natural grassland |  0.13145680725574493 |\n",
      "| artificial grassland |                  0.0 |\n",
      "|                river |  0.28503844141960144 |\n",
      "|                 lake |  0.23665471374988556 |\n",
      "|                 pond |     0.40047687292099 |\n",
      "+----------------------+----------------------+\n"
     ]
    }
   ],
   "source": [
    "multi_config = {\n",
    "\t\"Ensemble\": None,\n",
    "    \"Unetv2\": \"D:\\\\weights\\\\checkpoint8\",\n",
    "\t\"Resnet101\": \"D:\\\\weights\\\\checkpoint12\",\n",
    "\t\"MobileNet\": \"D:\\\\weights\\\\checkpoint20\",\n",
    "\t\"SegformerMod\": \"D:\\\\weights\\\\segmod_heckpoint20\",\n",
    "}\n",
    "config = {\n",
    "\t\"num_classes\": 15,\n",
    "\t\"dataset\": \"D:\\Datasets\\GID15\\gid-15\\GID\\Validation\",\n",
    "\t\"patch_size\": 224,\t\n",
    "\t'device':'gpu',\n",
    "\t'verbose':True,\n",
    "\t'ignore_background':False,\n",
    "\t\"ensemble_config\": \"test.yaml\"\n",
    "}\n",
    "\n",
    "device = utils.load_device(config)\n",
    "data = {}\n",
    "for netname, checkpoint in multi_config.items():\n",
    "\tconfig['net'] = netname\n",
    "\tprint(f\"Evaluating {netname}\")\n",
    "\tconfig['load_checkpoint'] = checkpoint\t\n",
    "\tnet = utils.load_network(config, device).to(device)\n",
    "\tif checkpoint != None:\n",
    "\t\tutils.load_checkpoint(config, net)\n",
    "\tloader = dataset.Loader(config['dataset'], 1, patch_size=config['patch_size'])\n",
    "\tif 'images' in config.keys() : loader.specify(config['images'])\t\t\t\n",
    "\tflat, normalized = utils.eval_model(net, \n",
    "\t\tloader, \n",
    "\t\tdevice, \n",
    "\t\t1, \n",
    "\t\tshow_progress=config['verbose'],\n",
    "\t\tignore_background=config['ignore_background'])\n",
    "\tconfusion = flat.compute()\t\n",
    "\tmetrics = utils.print_metrics(confusion)\n",
    "\tdata[netname] = metrics\t\n"
   ]
  },
  {
   "cell_type": "code",
   "execution_count": 5,
   "metadata": {},
   "outputs": [
    {
     "data": {
      "text/plain": [
       "dict_keys(['Ensemble', 'Unetv2', 'Resnet101', 'MobileNet', 'SegformerMod'])"
      ]
     },
     "execution_count": 5,
     "metadata": {},
     "output_type": "execute_result"
    }
   ],
   "source": []
  },
  {
   "cell_type": "code",
   "execution_count": 6,
   "metadata": {},
   "outputs": [
    {
     "data": {
      "image/png": "[encoded data removed]",
      "text/plain": [
       "<Figure size 1500x300 with 1 Axes>"
      ]
     },
     "metadata": {},
     "output_type": "display_data"
    }
   ],
   "source": [
    "import matplotlib.pyplot as plt\n",
    "# data = {'Unet': {'IoU': [], 'mIoU':x, ....}}\n",
    "def plot_IoU_perclass(data):\t\n",
    "\tlabels = {\n",
    "\t\t0:\"unlabeled\",\n",
    "\t\t1:\"industrial land\",\n",
    "\t\t2:\"urban residential\",\n",
    "\t\t3:\"rural residential\",\n",
    "\t\t4:\"traffic land\",\n",
    "\t\t5:\"paddy field\",\n",
    "\t\t6:\"irrigated cropland\",\n",
    "\t\t7:\"dry cropland\",\n",
    "\t\t8:\"garden plot\",\n",
    "\t\t9:\"arbor forest\",\n",
    "\t\t10:\"shrub land\",\n",
    "\t\t11:\"natural grassland\",\n",
    "\t\t12:\"artificial grassland\",\n",
    "\t\t13:\"river\",\n",
    "\t\t14:\"lake\",\n",
    "\t\t15:\"pond\",\n",
    "\t}\n",
    "\tfig, ax = plt.subplots()\n",
    "\tfig.set_size_inches(15,3) \n",
    "\tcolors = ['red', 'blue', 'green', 'purple', 'yellow']\n",
    "\tfor i,net in enumerate(data.keys()):\t\t\n",
    "\t\tperclass_IoU = data[net]['perclass_IoU']\n",
    "\t\tplt.plot(perclass_IoU, marker='o', color=colors[i], label=net)\n",
    "\tax.legend()\n",
    "\tx_numbers = [_ for _ in range(len(labels.items()))]\t\n",
    "\tplt.xticks(x_numbers, labels.values(), rotation=90)\n",
    "\tax.set_xlabel(\"Class\")\n",
    "\tax.set_ylabel(\"IoU\")\n",
    "\tplt.ylim(0,1)\t\n",
    "\tplt.grid()\n",
    "\tplt.show()\n",
    "plot_IoU_perclass(data)\n",
    "\n",
    "\t"
   ]
  }
 ],
 "metadata": {
  "kernelspec": {
   "display_name": "Python 3",
   "language": "python",
   "name": "python3"
  },
  "language_info": {
   "codemirror_mode": {
    "name": "ipython",
    "version": 3
   },
   "file_extension": ".py",
   "mimetype": "text/x-python",
   "name": "python",
   "nbconvert_exporter": "python",
   "pygments_lexer": "ipython3",
   "version": "3.10.11"
  }
 },
 "nbformat": 4,
 "nbformat_minor": 2
}
